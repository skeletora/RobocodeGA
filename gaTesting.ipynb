{
 "cells": [
  {
   "cell_type": "code",
   "execution_count": 1,
   "metadata": {},
   "outputs": [],
   "source": [
    "import geneticAlgorithm as ga"
   ]
  },
  {
   "cell_type": "code",
   "execution_count": 2,
   "metadata": {},
   "outputs": [
    {
     "name": "stdout",
     "output_type": "stream",
     "text": [
      "--------------------------------------------------\n",
      "STARTING INITIALIZATION\n",
      "Creating population with the following parameters:\n",
      "Population size: 10\n",
      "Initial population: None\n",
      "Number of children per generation: 2\n",
      "--------------------------------------------------\n",
      "CREATING A POPULATION\n",
      "FINISHED MAKING POPULATION\n",
      "--------------------------------------------------\n",
      "FINISHED INITIALIZATION\n",
      "--------------------------------------------------\n"
     ]
    }
   ],
   "source": [
    "pop = ga.GA()"
   ]
  },
  {
   "cell_type": "code",
   "execution_count": 3,
   "metadata": {},
   "outputs": [
    {
     "name": "stdout",
     "output_type": "stream",
     "text": [
      "   Score  Move Pattern  Min Dist  Max Dist  Min Rot  Max Rot  Move Delay  \\\n",
      "0      0             3        26        77       67      159           4   \n",
      "1      0             0        96        70      304      321           9   \n",
      "2      0             2        45        15       34      272           2   \n",
      "3      0             3        39        34       91       31           2   \n",
      "4      0             4        73        77      132      213           3   \n",
      "5      0             0        57        96      127      250           9   \n",
      "6      0             1        29         0      282      275           7   \n",
      "7      0             3        55        56      208      228           4   \n",
      "8      0             2        41         4       63      224           5   \n",
      "9      0             4        37        62      358      279           3   \n",
      "\n",
      "   Move Dir  Move Vel  Bullet Pattern  Targeting Pattern  \n",
      "0         0         0               1                  1  \n",
      "1         0         5               4                  0  \n",
      "2         0         6               1                  0  \n",
      "3         0         0               3                  1  \n",
      "4        -1         5               1                  0  \n",
      "5        -1         6               3                  2  \n",
      "6        -1         1               2                  1  \n",
      "7        -1         0               2                  1  \n",
      "8         0         6               0                  2  \n",
      "9        -1         4               2                  1  \n"
     ]
    }
   ],
   "source": [
    "pop.PrintPop()"
   ]
  },
  {
   "cell_type": "code",
   "execution_count": null,
   "metadata": {},
   "outputs": [],
   "source": []
  }
 ],
 "metadata": {
  "kernelspec": {
   "display_name": "Python 3",
   "language": "python",
   "name": "python3"
  },
  "language_info": {
   "codemirror_mode": {
    "name": "ipython",
    "version": 3
   },
   "file_extension": ".py",
   "mimetype": "text/x-python",
   "name": "python",
   "nbconvert_exporter": "python",
   "pygments_lexer": "ipython3",
   "version": "3.7.4"
  }
 },
 "nbformat": 4,
 "nbformat_minor": 2
}
