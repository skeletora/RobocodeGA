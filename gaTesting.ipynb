{
 "cells": [
  {
   "cell_type": "markdown",
   "metadata": {},
   "source": [
    "# Current Issues\n",
    "\n",
    "- Population generation needs to be fixed\n",
    "    - Move pattern doesn't seem to be generating 5.  Might need to tweak random number generator parameters.\n",
    "    - Need to fix \"Move Dir\" values to only be -1 or 1, no zeros\n",
    "- ~~Need to update code to be modular in its methods~~\n",
    "- Need to add a genome validator to ensure that algorithm is generating a valid population and that children are being produced with proper genomes\n"
   ]
  },
  {
   "cell_type": "code",
   "execution_count": 1,
   "metadata": {},
   "outputs": [],
   "source": [
    "import geneticAlgorithm as ga"
   ]
  },
  {
   "cell_type": "code",
   "execution_count": 2,
   "metadata": {},
   "outputs": [
    {
     "name": "stdout",
     "output_type": "stream",
     "text": [
      "--------------------------------------------------\n",
      "STARTING INITIALIZATION\n",
      "Creating population with the following parameters:\n",
      "Population size: 10\n",
      "Initial population: None\n",
      "Number of parents per generation: 5\n",
      "Number of children per generation: 3\n",
      "--------------------------------------------------\n",
      "CREATING A POPULATION\n",
      "FINISHED MAKING POPULATION\n",
      "--------------------------------------------------\n",
      "FINISHED INITIALIZATION\n",
      "--------------------------------------------------\n"
     ]
    }
   ],
   "source": [
    "pop = ga.GA(numChildren = 3)"
   ]
  },
  {
   "cell_type": "code",
   "execution_count": 3,
   "metadata": {},
   "outputs": [
    {
     "data": {
      "text/html": [
       "<div>\n",
       "<style scoped>\n",
       "    .dataframe tbody tr th:only-of-type {\n",
       "        vertical-align: middle;\n",
       "    }\n",
       "\n",
       "    .dataframe tbody tr th {\n",
       "        vertical-align: top;\n",
       "    }\n",
       "\n",
       "    .dataframe thead th {\n",
       "        text-align: right;\n",
       "    }\n",
       "</style>\n",
       "<table border=\"1\" class=\"dataframe\">\n",
       "  <thead>\n",
       "    <tr style=\"text-align: right;\">\n",
       "      <th></th>\n",
       "      <th>Score</th>\n",
       "      <th>Move Pattern</th>\n",
       "      <th>Min Dist</th>\n",
       "      <th>Max Dist</th>\n",
       "      <th>Min Rot</th>\n",
       "      <th>Max Rot</th>\n",
       "      <th>Move Delay</th>\n",
       "      <th>Move Dir</th>\n",
       "      <th>Move Vel</th>\n",
       "      <th>Bullet Pattern</th>\n",
       "      <th>Targeting Pattern</th>\n",
       "      <th>Probability</th>\n",
       "    </tr>\n",
       "  </thead>\n",
       "  <tbody>\n",
       "    <tr>\n",
       "      <td>0</td>\n",
       "      <td>NaN</td>\n",
       "      <td>NaN</td>\n",
       "      <td>NaN</td>\n",
       "      <td>NaN</td>\n",
       "      <td>NaN</td>\n",
       "      <td>NaN</td>\n",
       "      <td>NaN</td>\n",
       "      <td>NaN</td>\n",
       "      <td>NaN</td>\n",
       "      <td>NaN</td>\n",
       "      <td>NaN</td>\n",
       "      <td>NaN</td>\n",
       "    </tr>\n",
       "    <tr>\n",
       "      <td>1</td>\n",
       "      <td>NaN</td>\n",
       "      <td>NaN</td>\n",
       "      <td>NaN</td>\n",
       "      <td>NaN</td>\n",
       "      <td>NaN</td>\n",
       "      <td>NaN</td>\n",
       "      <td>NaN</td>\n",
       "      <td>NaN</td>\n",
       "      <td>NaN</td>\n",
       "      <td>NaN</td>\n",
       "      <td>NaN</td>\n",
       "      <td>NaN</td>\n",
       "    </tr>\n",
       "    <tr>\n",
       "      <td>2</td>\n",
       "      <td>NaN</td>\n",
       "      <td>NaN</td>\n",
       "      <td>NaN</td>\n",
       "      <td>NaN</td>\n",
       "      <td>NaN</td>\n",
       "      <td>NaN</td>\n",
       "      <td>NaN</td>\n",
       "      <td>NaN</td>\n",
       "      <td>NaN</td>\n",
       "      <td>NaN</td>\n",
       "      <td>NaN</td>\n",
       "      <td>NaN</td>\n",
       "    </tr>\n",
       "  </tbody>\n",
       "</table>\n",
       "</div>"
      ],
      "text/plain": [
       "  Score Move Pattern Min Dist Max Dist Min Rot Max Rot Move Delay Move Dir  \\\n",
       "0   NaN          NaN      NaN      NaN     NaN     NaN        NaN      NaN   \n",
       "1   NaN          NaN      NaN      NaN     NaN     NaN        NaN      NaN   \n",
       "2   NaN          NaN      NaN      NaN     NaN     NaN        NaN      NaN   \n",
       "\n",
       "  Move Vel Bullet Pattern Targeting Pattern Probability  \n",
       "0      NaN            NaN               NaN         NaN  \n",
       "1      NaN            NaN               NaN         NaN  \n",
       "2      NaN            NaN               NaN         NaN  "
      ]
     },
     "execution_count": 3,
     "metadata": {},
     "output_type": "execute_result"
    }
   ],
   "source": [
    "pop.children"
   ]
  },
  {
   "cell_type": "code",
   "execution_count": 4,
   "metadata": {},
   "outputs": [
    {
     "name": "stdout",
     "output_type": "stream",
     "text": [
      "Current Generation: 0\n",
      "   Score  Move Pattern  Min Dist  Max Dist  Min Rot  Max Rot  Move Delay  \\\n",
      "0      0             3        81        85       35      123           3   \n",
      "1      0             1        56        26       25      103           4   \n",
      "2      0             3        31        92      226      141           1   \n",
      "3      0             2        60        85      303       85           4   \n",
      "4      0             4        48        58      173      283           9   \n",
      "5      0             2        57        35       79      104           4   \n",
      "6      0             0        46        66      132      227           9   \n",
      "7      0             3        67        39      359      202           5   \n",
      "8      0             2        88        67      196      114           2   \n",
      "9      0             4        88        93      147       13           0   \n",
      "\n",
      "   Move Dir  Move Vel  Bullet Pattern  Targeting Pattern  Probability  \n",
      "0        -1         6               4                  1            0  \n",
      "1         0         5               4                  0            0  \n",
      "2         0         4               2                  0            0  \n",
      "3        -1         7               1                  2            0  \n",
      "4        -1         1               3                  1            0  \n",
      "5        -1         7               3                  2            0  \n",
      "6        -1         7               4                  0            0  \n",
      "7        -1         2               0                  1            0  \n",
      "8        -1         2               2                  1            0  \n",
      "9         0         0               4                  0            0  \n"
     ]
    }
   ],
   "source": [
    "pop.PrintPopStatus()"
   ]
  },
  {
   "cell_type": "code",
   "execution_count": 5,
   "metadata": {},
   "outputs": [
    {
     "name": "stdout",
     "output_type": "stream",
     "text": [
      "--------------------------------------------------\n",
      "INSIDE SURVIVOR SELECTION\n",
      "END OF SURVIVOR SELECTION\n",
      "--------------------------------------------------\n"
     ]
    }
   ],
   "source": [
    "pop.SurvivorSelection()"
   ]
  },
  {
   "cell_type": "code",
   "execution_count": 6,
   "metadata": {},
   "outputs": [
    {
     "name": "stdout",
     "output_type": "stream",
     "text": [
      "--------------------------------------------------\n",
      "INSIDE PARENT SELECTION\n",
      "--------------------------------------------------\n",
      "INSIDE CALCPROB\n",
      "--------------------------------------------------\n",
      "INSIDE SCORE BASED PROBABILITY\n",
      "END OF SCORE BASED PROBABILITY\n",
      "--------------------------------------------------\n",
      "END OF CALCPROB\n",
      "--------------------------------------------------\n",
      "--------------------------------------------------\n",
      "INSIDE STOCHASTIC UNIVERSAL SAMPLING\n",
      "Selecting 5 Parents\n",
      "Cumulative probability is: [0.1, 0.2, 0.30000000000000004, 0.4, 0.5, 0.6, 0.7, 0.7999999999999999, 0.8999999999999999, 0.9999999999999999]\n",
      "r is: 0.1676002565508266\n",
      "r is: 0.3676002565508266\n",
      "r is: 0.5676002565508267\n",
      "r is: 0.7676002565508266\n",
      "r is: 0.9676002565508266\n",
      "r is: 1.1676002565508266\n",
      "The parents are:\n",
      "[1, 3, 5, 7, 9]\n",
      "END OF STOCHASTIC UNIVERSAL SAMPLING\n",
      "--------------------------------------------------\n",
      "END OF PARENT SELECTION\n",
      "--------------------------------------------------\n"
     ]
    }
   ],
   "source": [
    "pop.ParentSelection()"
   ]
  },
  {
   "cell_type": "code",
   "execution_count": 7,
   "metadata": {},
   "outputs": [
    {
     "name": "stdout",
     "output_type": "stream",
     "text": [
      "--------------------------------------------------\n",
      "INSIDE RECOMBINATION\n",
      "Pair: [9, 7]\n",
      "childCount: 0\n",
      "--------------------------------------------------\n",
      "INSIDE SIMPLE ARITHMETIC RECOMBINATION\n",
      "Parent 1 is: 9\n",
      "Parent 2 is: 7\n",
      "Weight is: 0.75\n",
      "Par1 is: [4.0, 88.0, 93.0, 147.0, 13.0, 0.0, 0.0, 0.0, 4.0, 0.0]\n",
      "Par2 is: [3.0, 67.0, 39.0, 359.0, 202.0, 5.0, -1.0, 2.0, 0.0, 1.0]\n",
      "k is: 6\n",
      "child1 is: [4.0, 88.0, 93.0, 147.0, 13.0, 0.0, -0.75, 1.5, 1.0, 0.75]\n",
      "child2 is: [3.0, 67.0, 39.0, 359.0, 202.0, 5.0, -0.25, 0.5, 3.0, 0.25]\n",
      "END OF SIMPLE ARITHMETIC RECOMBINATION\n",
      "--------------------------------------------------\n",
      "Pair: [3, 5]\n",
      "childCount: 2\n",
      "--------------------------------------------------\n",
      "INSIDE SIMPLE ARITHMETIC RECOMBINATION\n",
      "Parent 1 is: 3\n",
      "Parent 2 is: 5\n",
      "Weight is: 0.75\n",
      "Par1 is: [2.0, 60.0, 85.0, 303.0, 85.0, 4.0, -1.0, 7.0, 1.0, 2.0]\n",
      "Par2 is: [2.0, 57.0, 35.0, 79.0, 104.0, 4.0, -1.0, 7.0, 3.0, 2.0]\n",
      "k is: 4\n",
      "child1 is: [2.0, 60.0, 85.0, 303.0, 99.25, 4.0, -1.0, 7.0, 2.5, 2.0]\n",
      "child2 is: [2.0, 57.0, 35.0, 79.0, 89.75, 4.0, -1.0, 7.0, 1.5, 2.0]\n",
      "END OF SIMPLE ARITHMETIC RECOMBINATION\n",
      "--------------------------------------------------\n",
      "END OF RECOMBINATION\n",
      "--------------------------------------------------\n"
     ]
    }
   ],
   "source": [
    "pop.Recombination(recombMethod = \"weighted average\", weight = 0.75)"
   ]
  },
  {
   "cell_type": "code",
   "execution_count": 8,
   "metadata": {},
   "outputs": [
    {
     "data": {
      "text/html": [
       "<div>\n",
       "<style scoped>\n",
       "    .dataframe tbody tr th:only-of-type {\n",
       "        vertical-align: middle;\n",
       "    }\n",
       "\n",
       "    .dataframe tbody tr th {\n",
       "        vertical-align: top;\n",
       "    }\n",
       "\n",
       "    .dataframe thead th {\n",
       "        text-align: right;\n",
       "    }\n",
       "</style>\n",
       "<table border=\"1\" class=\"dataframe\">\n",
       "  <thead>\n",
       "    <tr style=\"text-align: right;\">\n",
       "      <th></th>\n",
       "      <th>Score</th>\n",
       "      <th>Move Pattern</th>\n",
       "      <th>Min Dist</th>\n",
       "      <th>Max Dist</th>\n",
       "      <th>Min Rot</th>\n",
       "      <th>Max Rot</th>\n",
       "      <th>Move Delay</th>\n",
       "      <th>Move Dir</th>\n",
       "      <th>Move Vel</th>\n",
       "      <th>Bullet Pattern</th>\n",
       "      <th>Targeting Pattern</th>\n",
       "      <th>Probability</th>\n",
       "    </tr>\n",
       "  </thead>\n",
       "  <tbody>\n",
       "    <tr>\n",
       "      <td>0</td>\n",
       "      <td>0</td>\n",
       "      <td>4</td>\n",
       "      <td>88</td>\n",
       "      <td>93</td>\n",
       "      <td>147</td>\n",
       "      <td>13</td>\n",
       "      <td>0</td>\n",
       "      <td>-0.75</td>\n",
       "      <td>1.5</td>\n",
       "      <td>1</td>\n",
       "      <td>0.75</td>\n",
       "      <td>0</td>\n",
       "    </tr>\n",
       "    <tr>\n",
       "      <td>1</td>\n",
       "      <td>0</td>\n",
       "      <td>3</td>\n",
       "      <td>67</td>\n",
       "      <td>39</td>\n",
       "      <td>359</td>\n",
       "      <td>202</td>\n",
       "      <td>5</td>\n",
       "      <td>-0.25</td>\n",
       "      <td>0.5</td>\n",
       "      <td>3</td>\n",
       "      <td>0.25</td>\n",
       "      <td>0</td>\n",
       "    </tr>\n",
       "    <tr>\n",
       "      <td>2</td>\n",
       "      <td>0</td>\n",
       "      <td>2</td>\n",
       "      <td>60</td>\n",
       "      <td>85</td>\n",
       "      <td>303</td>\n",
       "      <td>99.25</td>\n",
       "      <td>4</td>\n",
       "      <td>-1</td>\n",
       "      <td>7</td>\n",
       "      <td>2.5</td>\n",
       "      <td>2</td>\n",
       "      <td>0</td>\n",
       "    </tr>\n",
       "  </tbody>\n",
       "</table>\n",
       "</div>"
      ],
      "text/plain": [
       "  Score Move Pattern Min Dist Max Dist Min Rot Max Rot Move Delay Move Dir  \\\n",
       "0     0            4       88       93     147      13          0    -0.75   \n",
       "1     0            3       67       39     359     202          5    -0.25   \n",
       "2     0            2       60       85     303   99.25          4       -1   \n",
       "\n",
       "  Move Vel Bullet Pattern Targeting Pattern Probability  \n",
       "0      1.5              1              0.75           0  \n",
       "1      0.5              3              0.25           0  \n",
       "2        7            2.5                 2           0  "
      ]
     },
     "execution_count": 8,
     "metadata": {},
     "output_type": "execute_result"
    }
   ],
   "source": [
    "pop.children"
   ]
  },
  {
   "cell_type": "code",
   "execution_count": 9,
   "metadata": {},
   "outputs": [
    {
     "name": "stdout",
     "output_type": "stream",
     "text": [
      "Current Generation: 1\n",
      "   Score  Move Pattern  Min Dist  Max Dist  Min Rot  Max Rot  Move Delay  \\\n",
      "0      0             3        81        85       35      123           3   \n",
      "1      0             1        56        26       25      103           4   \n",
      "2      0             3        31        92      226      141           1   \n",
      "3      0             2        60        85      303       85           4   \n",
      "4      0             4        48        58      173      283           9   \n",
      "5      0             2        57        35       79      104           4   \n",
      "6      0             0        46        66      132      227           9   \n",
      "7      0             3        67        39      359      202           5   \n",
      "8      0             2        88        67      196      114           2   \n",
      "9      0             4        88        93      147       13           0   \n",
      "\n",
      "   Move Dir  Move Vel  Bullet Pattern  Targeting Pattern  Probability  \n",
      "0        -1         6               4                  1          0.1  \n",
      "1         0         5               4                  0          0.1  \n",
      "2         0         4               2                  0          0.1  \n",
      "3        -1         7               1                  2          0.1  \n",
      "4        -1         1               3                  1          0.1  \n",
      "5        -1         7               3                  2          0.1  \n",
      "6        -1         7               4                  0          0.1  \n",
      "7        -1         2               0                  1          0.1  \n",
      "8        -1         2               2                  1          0.1  \n",
      "9         0         0               4                  0          0.1  \n"
     ]
    }
   ],
   "source": [
    "pop.PrintPopStatus()"
   ]
  },
  {
   "cell_type": "code",
   "execution_count": null,
   "metadata": {},
   "outputs": [],
   "source": []
  },
  {
   "cell_type": "code",
   "execution_count": null,
   "metadata": {},
   "outputs": [],
   "source": []
  }
 ],
 "metadata": {
  "kernelspec": {
   "display_name": "Python 3",
   "language": "python",
   "name": "python3"
  },
  "language_info": {
   "codemirror_mode": {
    "name": "ipython",
    "version": 3
   },
   "file_extension": ".py",
   "mimetype": "text/x-python",
   "name": "python",
   "nbconvert_exporter": "python",
   "pygments_lexer": "ipython3",
   "version": "3.7.4"
  }
 },
 "nbformat": 4,
 "nbformat_minor": 2
}
