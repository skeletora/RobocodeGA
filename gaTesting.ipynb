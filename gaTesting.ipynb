{
 "cells": [
  {
   "cell_type": "markdown",
   "metadata": {},
   "source": [
    "# Current Issues\n",
    "\n",
    "- Population generation needs to be fixed\n",
    "    - Move pattern doesn't seem to be generating 5.  Might need to tweak random number generator parameters.\n",
    "    - Need to fix \"Move Dir\" values to only be -1 or 1, no zeros\n",
    "- ~~Need to update code to be modular in its methods~~\n",
    "- Need to add a genome validator to ensure that algorithm is generating a valid population and that children are being produced with proper genomes\n",
    "- Look into making sure that values are considered integers at the end of the cycle\n"
   ]
  },
  {
   "cell_type": "code",
   "execution_count": 1,
   "metadata": {},
   "outputs": [],
   "source": [
    "import numpy as np"
   ]
  },
  {
   "cell_type": "code",
   "execution_count": 2,
   "metadata": {},
   "outputs": [],
   "source": [
    "import geneticAlgorithm as ga"
   ]
  },
  {
   "cell_type": "code",
   "execution_count": 3,
   "metadata": {},
   "outputs": [
    {
     "name": "stdout",
     "output_type": "stream",
     "text": [
      "--------------------------------------------------\n",
      "STARTING INITIALIZATION\n",
      "Creating population with the following parameters:\n",
      "Population size: 10\n",
      "Initial population: None\n",
      "Number of parents per generation: 5\n",
      "Number of children per generation: 3\n",
      "--------------------------------------------------\n",
      "CREATING A POPULATION\n",
      "FINISHED MAKING POPULATION\n",
      "--------------------------------------------------\n",
      "FINISHED INITIALIZATION\n",
      "--------------------------------------------------\n"
     ]
    }
   ],
   "source": [
    "pop = ga.GA(numChildren = 3)"
   ]
  },
  {
   "cell_type": "code",
   "execution_count": 4,
   "metadata": {},
   "outputs": [
    {
     "data": {
      "text/html": [
       "<div>\n",
       "<style scoped>\n",
       "    .dataframe tbody tr th:only-of-type {\n",
       "        vertical-align: middle;\n",
       "    }\n",
       "\n",
       "    .dataframe tbody tr th {\n",
       "        vertical-align: top;\n",
       "    }\n",
       "\n",
       "    .dataframe thead th {\n",
       "        text-align: right;\n",
       "    }\n",
       "</style>\n",
       "<table border=\"1\" class=\"dataframe\">\n",
       "  <thead>\n",
       "    <tr style=\"text-align: right;\">\n",
       "      <th></th>\n",
       "      <th>Score</th>\n",
       "      <th>Move Pattern</th>\n",
       "      <th>Min Dist</th>\n",
       "      <th>Max Dist</th>\n",
       "      <th>Min Rot</th>\n",
       "      <th>Max Rot</th>\n",
       "      <th>Move Delay</th>\n",
       "      <th>Move Dir</th>\n",
       "      <th>Move Vel</th>\n",
       "      <th>Bullet Pattern</th>\n",
       "      <th>Targeting Pattern</th>\n",
       "      <th>Probability</th>\n",
       "    </tr>\n",
       "  </thead>\n",
       "  <tbody>\n",
       "    <tr>\n",
       "      <td>0</td>\n",
       "      <td>NaN</td>\n",
       "      <td>NaN</td>\n",
       "      <td>NaN</td>\n",
       "      <td>NaN</td>\n",
       "      <td>NaN</td>\n",
       "      <td>NaN</td>\n",
       "      <td>NaN</td>\n",
       "      <td>NaN</td>\n",
       "      <td>NaN</td>\n",
       "      <td>NaN</td>\n",
       "      <td>NaN</td>\n",
       "      <td>NaN</td>\n",
       "    </tr>\n",
       "    <tr>\n",
       "      <td>1</td>\n",
       "      <td>NaN</td>\n",
       "      <td>NaN</td>\n",
       "      <td>NaN</td>\n",
       "      <td>NaN</td>\n",
       "      <td>NaN</td>\n",
       "      <td>NaN</td>\n",
       "      <td>NaN</td>\n",
       "      <td>NaN</td>\n",
       "      <td>NaN</td>\n",
       "      <td>NaN</td>\n",
       "      <td>NaN</td>\n",
       "      <td>NaN</td>\n",
       "    </tr>\n",
       "    <tr>\n",
       "      <td>2</td>\n",
       "      <td>NaN</td>\n",
       "      <td>NaN</td>\n",
       "      <td>NaN</td>\n",
       "      <td>NaN</td>\n",
       "      <td>NaN</td>\n",
       "      <td>NaN</td>\n",
       "      <td>NaN</td>\n",
       "      <td>NaN</td>\n",
       "      <td>NaN</td>\n",
       "      <td>NaN</td>\n",
       "      <td>NaN</td>\n",
       "      <td>NaN</td>\n",
       "    </tr>\n",
       "  </tbody>\n",
       "</table>\n",
       "</div>"
      ],
      "text/plain": [
       "  Score Move Pattern Min Dist Max Dist Min Rot Max Rot Move Delay Move Dir  \\\n",
       "0   NaN          NaN      NaN      NaN     NaN     NaN        NaN      NaN   \n",
       "1   NaN          NaN      NaN      NaN     NaN     NaN        NaN      NaN   \n",
       "2   NaN          NaN      NaN      NaN     NaN     NaN        NaN      NaN   \n",
       "\n",
       "  Move Vel Bullet Pattern Targeting Pattern Probability  \n",
       "0      NaN            NaN               NaN         NaN  \n",
       "1      NaN            NaN               NaN         NaN  \n",
       "2      NaN            NaN               NaN         NaN  "
      ]
     },
     "execution_count": 4,
     "metadata": {},
     "output_type": "execute_result"
    }
   ],
   "source": [
    "pop.children"
   ]
  },
  {
   "cell_type": "code",
   "execution_count": 5,
   "metadata": {},
   "outputs": [
    {
     "name": "stdout",
     "output_type": "stream",
     "text": [
      "Current Generation: 0\n",
      "   Score  Move Pattern  Min Dist  Max Dist  Min Rot  Max Rot  Move Delay  \\\n",
      "0      0             0        63        14       93      103           4   \n",
      "1      0             4         0         5       46      206           5   \n",
      "2      0             1        46        44       84       21           5   \n",
      "3      0             3        16        26      133      200           3   \n",
      "4      0             4        32        80      358      322           6   \n",
      "5      0             1        25        70       65      353           6   \n",
      "6      0             3        26        76      298      294           8   \n",
      "7      0             0        63        58      358      132           1   \n",
      "8      0             4        84         1      220      301           0   \n",
      "9      0             0        66        20      338       91           3   \n",
      "\n",
      "   Move Dir  Move Vel  Bullet Pattern  Targeting Pattern  Probability  \n",
      "0         0         1               4                  0            0  \n",
      "1        -1         2               4                  0            0  \n",
      "2         0         2               0                  0            0  \n",
      "3        -1         5               3                  1            0  \n",
      "4        -1         6               2                  1            0  \n",
      "5        -1         1               3                  0            0  \n",
      "6         0         2               1                  0            0  \n",
      "7        -1         6               3                  2            0  \n",
      "8         0         2               0                  1            0  \n",
      "9        -1         1               0                  2            0  \n"
     ]
    }
   ],
   "source": [
    "pop.PrintPopStatus()"
   ]
  },
  {
   "cell_type": "code",
   "execution_count": 6,
   "metadata": {},
   "outputs": [
    {
     "name": "stdout",
     "output_type": "stream",
     "text": [
      "--------------------------------------------------\n",
      "INSIDE SURVIVOR SELECTION\n",
      "END OF SURVIVOR SELECTION\n",
      "--------------------------------------------------\n"
     ]
    }
   ],
   "source": [
    "pop.SurvivorSelection()"
   ]
  },
  {
   "cell_type": "code",
   "execution_count": 7,
   "metadata": {},
   "outputs": [
    {
     "name": "stdout",
     "output_type": "stream",
     "text": [
      "--------------------------------------------------\n",
      "INSIDE PARENT SELECTION\n",
      "--------------------------------------------------\n",
      "INSIDE CALCPROB\n",
      "--------------------------------------------------\n",
      "INSIDE SCORE BASED PROBABILITY\n",
      "END OF SCORE BASED PROBABILITY\n",
      "--------------------------------------------------\n",
      "END OF CALCPROB\n",
      "--------------------------------------------------\n",
      "--------------------------------------------------\n",
      "INSIDE STOCHASTIC UNIVERSAL SAMPLING\n",
      "Selecting 5 Parents\n",
      "Cumulative probability is: [0.1, 0.2, 0.30000000000000004, 0.4, 0.5, 0.6, 0.7, 0.7999999999999999, 0.8999999999999999, 0.9999999999999999]\n",
      "r is: 0.09172996784236283\n",
      "r is: 0.2917299678423628\n",
      "r is: 0.49172996784236284\n",
      "r is: 0.6917299678423628\n",
      "r is: 0.8917299678423629\n",
      "r is: 1.0917299678423629\n",
      "The parents are:\n",
      "[0, 2, 4, 6, 8]\n",
      "END OF STOCHASTIC UNIVERSAL SAMPLING\n",
      "--------------------------------------------------\n",
      "END OF PARENT SELECTION\n",
      "--------------------------------------------------\n"
     ]
    }
   ],
   "source": [
    "pop.ParentSelection()"
   ]
  },
  {
   "cell_type": "code",
   "execution_count": 8,
   "metadata": {},
   "outputs": [
    {
     "name": "stdout",
     "output_type": "stream",
     "text": [
      "--------------------------------------------------\n",
      "INSIDE RECOMBINATION\n",
      "Pair: [8, 6]\n",
      "childCount: 0\n",
      "--------------------------------------------------\n",
      "INSIDE SIMPLE ARITHMETIC RECOMBINATION\n",
      "Parent 1 is: 8\n",
      "Parent 2 is: 6\n",
      "Weight is: 0.75\n",
      "Par1 is: [4.0, 84.0, 1.0, 220.0, 301.0, 0.0, 0.0, 2.0, 0.0, 1.0]\n",
      "Par2 is: [3.0, 26.0, 76.0, 298.0, 294.0, 8.0, 0.0, 2.0, 1.0, 0.0]\n",
      "k is: 2\n",
      "child1 is: [4.0, 84.0, 57.25, 278.5, 295.75, 6.0, 0.0, 2.0, 0.75, 0.25]\n",
      "child2 is: [3.0, 26.0, 19.75, 239.5, 299.25, 2.0, 0.0, 2.0, 0.25, 0.75]\n",
      "END OF SIMPLE ARITHMETIC RECOMBINATION\n",
      "--------------------------------------------------\n",
      "Pair: [6, 2]\n",
      "childCount: 2\n",
      "--------------------------------------------------\n",
      "INSIDE SIMPLE ARITHMETIC RECOMBINATION\n",
      "Parent 1 is: 6\n",
      "Parent 2 is: 2\n",
      "Weight is: 0.75\n",
      "Par1 is: [3.0, 26.0, 76.0, 298.0, 294.0, 8.0, 0.0, 2.0, 1.0, 0.0]\n",
      "Par2 is: [1.0, 46.0, 44.0, 84.0, 21.0, 5.0, 0.0, 2.0, 0.0, 0.0]\n",
      "k is: 7\n",
      "child1 is: [3.0, 26.0, 76.0, 298.0, 294.0, 8.0, 0.0, 2.0, 0.25, 0.0]\n",
      "child2 is: [1.0, 46.0, 44.0, 84.0, 21.0, 5.0, 0.0, 2.0, 0.75, 0.0]\n",
      "END OF SIMPLE ARITHMETIC RECOMBINATION\n",
      "--------------------------------------------------\n",
      "--------------------------------------------------\n",
      "INSIDE FIX GENOME\n",
      "Rounding 0 at (0, Score)\n",
      "Rounding 4.0 at (0, Move Pattern)\n",
      "Rounding 84.0 at (0, Min Dist)\n",
      "Rounding 57.25 at (0, Max Dist)\n",
      "Rounding 278.5 at (0, Min Rot)\n",
      "Rounding 295.75 at (0, Max Rot)\n",
      "Rounding 6.0 at (0, Move Delay)\n",
      "Rounding 0.0 at (0, Move Dir)\n",
      "Rounding 2.0 at (0, Move Vel)\n",
      "Rounding 0.75 at (0, Bullet Pattern)\n",
      "Rounding 0.25 at (0, Targeting Pattern)\n",
      "Rounding 0 at (0, Probability)\n",
      "Rounding 0 at (1, Score)\n",
      "Rounding 3.0 at (1, Move Pattern)\n",
      "Rounding 26.0 at (1, Min Dist)\n",
      "Rounding 19.75 at (1, Max Dist)\n",
      "Rounding 239.5 at (1, Min Rot)\n",
      "Rounding 299.25 at (1, Max Rot)\n",
      "Rounding 2.0 at (1, Move Delay)\n",
      "Rounding 0.0 at (1, Move Dir)\n",
      "Rounding 2.0 at (1, Move Vel)\n",
      "Rounding 0.25 at (1, Bullet Pattern)\n",
      "Rounding 0.75 at (1, Targeting Pattern)\n",
      "Rounding 0 at (1, Probability)\n",
      "Rounding 0 at (2, Score)\n",
      "Rounding 3.0 at (2, Move Pattern)\n",
      "Rounding 26.0 at (2, Min Dist)\n",
      "Rounding 76.0 at (2, Max Dist)\n",
      "Rounding 298.0 at (2, Min Rot)\n",
      "Rounding 294.0 at (2, Max Rot)\n",
      "Rounding 8.0 at (2, Move Delay)\n",
      "Rounding 0.0 at (2, Move Dir)\n",
      "Rounding 2.0 at (2, Move Vel)\n",
      "Rounding 0.25 at (2, Bullet Pattern)\n",
      "Rounding 0.0 at (2, Targeting Pattern)\n",
      "Rounding 0 at (2, Probability)\n",
      "END OF FIX GENOME\n",
      "--------------------------------------------------\n",
      "END OF RECOMBINATION\n",
      "--------------------------------------------------\n"
     ]
    }
   ],
   "source": [
    "pop.Recombination(recombMethod = \"weighted average\", weight = 0.75)"
   ]
  },
  {
   "cell_type": "code",
   "execution_count": 9,
   "metadata": {},
   "outputs": [
    {
     "data": {
      "text/html": [
       "<div>\n",
       "<style scoped>\n",
       "    .dataframe tbody tr th:only-of-type {\n",
       "        vertical-align: middle;\n",
       "    }\n",
       "\n",
       "    .dataframe tbody tr th {\n",
       "        vertical-align: top;\n",
       "    }\n",
       "\n",
       "    .dataframe thead th {\n",
       "        text-align: right;\n",
       "    }\n",
       "</style>\n",
       "<table border=\"1\" class=\"dataframe\">\n",
       "  <thead>\n",
       "    <tr style=\"text-align: right;\">\n",
       "      <th></th>\n",
       "      <th>Score</th>\n",
       "      <th>Move Pattern</th>\n",
       "      <th>Min Dist</th>\n",
       "      <th>Max Dist</th>\n",
       "      <th>Min Rot</th>\n",
       "      <th>Max Rot</th>\n",
       "      <th>Move Delay</th>\n",
       "      <th>Move Dir</th>\n",
       "      <th>Move Vel</th>\n",
       "      <th>Bullet Pattern</th>\n",
       "      <th>Targeting Pattern</th>\n",
       "      <th>Probability</th>\n",
       "    </tr>\n",
       "  </thead>\n",
       "  <tbody>\n",
       "    <tr>\n",
       "      <td>0</td>\n",
       "      <td>0</td>\n",
       "      <td>4</td>\n",
       "      <td>84</td>\n",
       "      <td>57</td>\n",
       "      <td>278</td>\n",
       "      <td>296</td>\n",
       "      <td>6</td>\n",
       "      <td>0</td>\n",
       "      <td>2</td>\n",
       "      <td>1</td>\n",
       "      <td>0</td>\n",
       "      <td>0</td>\n",
       "    </tr>\n",
       "    <tr>\n",
       "      <td>1</td>\n",
       "      <td>0</td>\n",
       "      <td>3</td>\n",
       "      <td>26</td>\n",
       "      <td>20</td>\n",
       "      <td>240</td>\n",
       "      <td>299</td>\n",
       "      <td>2</td>\n",
       "      <td>0</td>\n",
       "      <td>2</td>\n",
       "      <td>0</td>\n",
       "      <td>1</td>\n",
       "      <td>0</td>\n",
       "    </tr>\n",
       "    <tr>\n",
       "      <td>2</td>\n",
       "      <td>0</td>\n",
       "      <td>3</td>\n",
       "      <td>26</td>\n",
       "      <td>76</td>\n",
       "      <td>298</td>\n",
       "      <td>294</td>\n",
       "      <td>8</td>\n",
       "      <td>0</td>\n",
       "      <td>2</td>\n",
       "      <td>0</td>\n",
       "      <td>0</td>\n",
       "      <td>0</td>\n",
       "    </tr>\n",
       "  </tbody>\n",
       "</table>\n",
       "</div>"
      ],
      "text/plain": [
       "   Score  Move Pattern  Min Dist  Max Dist  Min Rot  Max Rot  Move Delay  \\\n",
       "0      0             4        84        57      278      296           6   \n",
       "1      0             3        26        20      240      299           2   \n",
       "2      0             3        26        76      298      294           8   \n",
       "\n",
       "   Move Dir  Move Vel  Bullet Pattern  Targeting Pattern  Probability  \n",
       "0         0         2               1                  0            0  \n",
       "1         0         2               0                  1            0  \n",
       "2         0         2               0                  0            0  "
      ]
     },
     "execution_count": 9,
     "metadata": {},
     "output_type": "execute_result"
    }
   ],
   "source": [
    "pop.children"
   ]
  },
  {
   "cell_type": "code",
   "execution_count": 10,
   "metadata": {},
   "outputs": [
    {
     "name": "stdout",
     "output_type": "stream",
     "text": [
      "--------------------------------------------------\n",
      "INSIDE MUTATE\n",
      "Mutation rate is: 0.5\n",
      "Mutation variation is: 1.0\n",
      "--------------------------------------------------\n",
      "INSIDE GAUSSIAN MUTATION\n",
      "Before mutation of child 0 in category Move Pattern: 4\n",
      "After mutation of child 0 in category Move Pattern: 5.2648317287328705\n",
      "Before mutation of child 0 in category Min Dist: 84\n",
      "After mutation of child 0 in category Min Dist: 82.97150909810557\n",
      "Before mutation of child 0 in category Max Dist: 57\n",
      "After mutation of child 0 in category Max Dist: 55.610587161178664\n",
      "Before mutation of child 0 in category Min Rot: 278\n",
      "After mutation of child 0 in category Min Rot: 277.5937171144619\n",
      "Before mutation of child 0 in category Max Rot: 296\n",
      "After mutation of child 0 in category Max Rot: 296.0652734748846\n",
      "Before mutation of child 0 in category Move Delay: 6\n",
      "After mutation of child 0 in category Move Delay: 6.417649684264268\n",
      "Before mutation of child 0 in category Move Dir: 0\n",
      "After mutation of child 0 in category Move Dir: -0.7415670779577022\n",
      "Before mutation of child 0 in category Move Vel: 2\n",
      "After mutation of child 0 in category Move Vel: 2.752788348565933\n",
      "Before mutation of child 0 in category Bullet Pattern: 1\n",
      "After mutation of child 0 in category Bullet Pattern: 1.051821364889375\n",
      "Before mutation of child 0 in category Targeting Pattern: 0\n",
      "After mutation of child 0 in category Targeting Pattern: -0.9167952251853033\n",
      "END OF GAUSSIAN MUTATION\n",
      "--------------------------------------------------\n",
      "--------------------------------------------------\n",
      "INSIDE GAUSSIAN MUTATION\n",
      "Before mutation of child 2 in category Move Pattern: 3.0\n",
      "After mutation of child 2 in category Move Pattern: 2.3614509549398335\n",
      "Before mutation of child 2 in category Min Dist: 26.0\n",
      "After mutation of child 2 in category Min Dist: 26.196668215086298\n",
      "Before mutation of child 2 in category Max Dist: 76.0\n",
      "After mutation of child 2 in category Max Dist: 75.40410992087972\n",
      "Before mutation of child 2 in category Min Rot: 298.0\n",
      "After mutation of child 2 in category Min Rot: 297.12054385103454\n",
      "Before mutation of child 2 in category Max Rot: 294.0\n",
      "After mutation of child 2 in category Max Rot: 295.04362805517303\n",
      "Before mutation of child 2 in category Move Delay: 8.0\n",
      "After mutation of child 2 in category Move Delay: 6.78935301453021\n",
      "Before mutation of child 2 in category Move Dir: 0.0\n",
      "After mutation of child 2 in category Move Dir: -1.3088917555863238\n",
      "Before mutation of child 2 in category Move Vel: 2.0\n",
      "After mutation of child 2 in category Move Vel: 3.4293086739816196\n",
      "Before mutation of child 2 in category Bullet Pattern: 0.0\n",
      "After mutation of child 2 in category Bullet Pattern: 0.9402051837550899\n",
      "Before mutation of child 2 in category Targeting Pattern: 0.0\n",
      "After mutation of child 2 in category Targeting Pattern: -0.39150253551819925\n",
      "END OF GAUSSIAN MUTATION\n",
      "--------------------------------------------------\n",
      "--------------------------------------------------\n",
      "INSIDE FIX GENOME\n",
      "Rounding 0 at (0, Score)\n",
      "Rounding 5.2648317287328705 at (0, Move Pattern)\n",
      "Rounding 82.97150909810557 at (0, Min Dist)\n",
      "Rounding 55.610587161178664 at (0, Max Dist)\n",
      "Rounding 277.5937171144619 at (0, Min Rot)\n",
      "Rounding 296.0652734748846 at (0, Max Rot)\n",
      "Rounding 6.417649684264268 at (0, Move Delay)\n",
      "Rounding -0.7415670779577022 at (0, Move Dir)\n",
      "Rounding 2.752788348565933 at (0, Move Vel)\n",
      "Rounding 1.051821364889375 at (0, Bullet Pattern)\n",
      "Rounding -0.9167952251853033 at (0, Targeting Pattern)\n",
      "Rounding 0 at (0, Probability)\n",
      "Rounding 0 at (1, Score)\n",
      "Rounding 3.0 at (1, Move Pattern)\n",
      "Rounding 26.0 at (1, Min Dist)\n",
      "Rounding 20.0 at (1, Max Dist)\n",
      "Rounding 240.0 at (1, Min Rot)\n",
      "Rounding 299.0 at (1, Max Rot)\n",
      "Rounding 2.0 at (1, Move Delay)\n",
      "Rounding 0.0 at (1, Move Dir)\n",
      "Rounding 2.0 at (1, Move Vel)\n",
      "Rounding 0.0 at (1, Bullet Pattern)\n",
      "Rounding 1.0 at (1, Targeting Pattern)\n",
      "Rounding 0 at (1, Probability)\n",
      "Rounding 0 at (2, Score)\n",
      "Rounding 2.3614509549398335 at (2, Move Pattern)\n",
      "Rounding 26.196668215086298 at (2, Min Dist)\n",
      "Rounding 75.40410992087972 at (2, Max Dist)\n",
      "Rounding 297.12054385103454 at (2, Min Rot)\n",
      "Rounding 295.04362805517303 at (2, Max Rot)\n",
      "Rounding 6.78935301453021 at (2, Move Delay)\n",
      "Rounding -1.3088917555863238 at (2, Move Dir)\n",
      "Rounding 3.4293086739816196 at (2, Move Vel)\n",
      "Rounding 0.9402051837550899 at (2, Bullet Pattern)\n",
      "Rounding -0.39150253551819925 at (2, Targeting Pattern)\n",
      "Rounding 0 at (2, Probability)\n",
      "END OF FIX GENOME\n",
      "--------------------------------------------------\n",
      "END OF MUTATE\n",
      "--------------------------------------------------\n"
     ]
    }
   ],
   "source": [
    "pop.Mutate(mutationRate = 0.5, mutationVariance = 1.0)"
   ]
  },
  {
   "cell_type": "code",
   "execution_count": 11,
   "metadata": {},
   "outputs": [
    {
     "name": "stdout",
     "output_type": "stream",
     "text": [
      "--------------------------------------------------\n",
      "INSIDE SURVIVOR SELECTION\n",
      "--------------------------------------------------\n",
      "INSIDE GENITOR\n",
      "END OF GENITOR\n",
      "--------------------------------------------------\n",
      "END OF SURVIVOR SELECTION\n",
      "--------------------------------------------------\n"
     ]
    }
   ],
   "source": [
    "pop.SurvivorSelection()"
   ]
  },
  {
   "cell_type": "code",
   "execution_count": 12,
   "metadata": {},
   "outputs": [
    {
     "name": "stdout",
     "output_type": "stream",
     "text": [
      "Current Generation: 1\n",
      "   Score  Move Pattern  Min Dist  Max Dist  Min Rot  Max Rot  Move Delay  \\\n",
      "0      0           0.0      63.0      14.0     93.0    103.0         4.0   \n",
      "1      0           4.0       0.0       5.0     46.0    206.0         5.0   \n",
      "2      0           1.0      46.0      44.0     84.0     21.0         5.0   \n",
      "3      0           3.0      16.0      26.0    133.0    200.0         3.0   \n",
      "4      0           4.0      32.0      80.0    358.0    322.0         6.0   \n",
      "5      0           1.0      25.0      70.0     65.0    353.0         6.0   \n",
      "6      0           3.0      26.0      76.0    298.0    294.0         8.0   \n",
      "7      0           5.0      83.0      56.0    278.0    296.0         6.0   \n",
      "8      0           3.0      26.0      20.0    240.0    299.0         2.0   \n",
      "9      0           2.0      26.0      75.0    297.0    295.0         7.0   \n",
      "\n",
      "   Move Dir  Move Vel  Bullet Pattern  Targeting Pattern  Probability  \n",
      "0       0.0       1.0             4.0                0.0          0.1  \n",
      "1      -1.0       2.0             4.0                0.0          0.1  \n",
      "2       0.0       2.0             0.0                0.0          0.1  \n",
      "3      -1.0       5.0             3.0                1.0          0.1  \n",
      "4      -1.0       6.0             2.0                1.0          0.1  \n",
      "5      -1.0       1.0             3.0                0.0          0.1  \n",
      "6       0.0       2.0             1.0                0.0          0.1  \n",
      "7      -1.0       3.0             1.0               -1.0          0.0  \n",
      "8       0.0       2.0             0.0                1.0          0.0  \n",
      "9      -1.0       3.0             1.0                0.0          0.0  \n"
     ]
    }
   ],
   "source": [
    "pop.PrintPopStatus()"
   ]
  },
  {
   "cell_type": "code",
   "execution_count": null,
   "metadata": {},
   "outputs": [],
   "source": []
  },
  {
   "cell_type": "code",
   "execution_count": null,
   "metadata": {},
   "outputs": [],
   "source": []
  },
  {
   "cell_type": "code",
   "execution_count": null,
   "metadata": {},
   "outputs": [],
   "source": []
  }
 ],
 "metadata": {
  "kernelspec": {
   "display_name": "Python 3",
   "language": "python",
   "name": "python3"
  },
  "language_info": {
   "codemirror_mode": {
    "name": "ipython",
    "version": 3
   },
   "file_extension": ".py",
   "mimetype": "text/x-python",
   "name": "python",
   "nbconvert_exporter": "python",
   "pygments_lexer": "ipython3",
   "version": "3.7.4"
  }
 },
 "nbformat": 4,
 "nbformat_minor": 2
}
