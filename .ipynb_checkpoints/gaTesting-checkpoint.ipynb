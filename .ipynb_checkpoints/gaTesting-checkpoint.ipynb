{
 "cells": [
  {
   "cell_type": "markdown",
   "metadata": {},
   "source": [
    "# Current Issues\n",
    "\n",
    "- Move pattern doesn't seem to be generating 5.  Might need to tweak random number generator parameters.\n",
    "- Need to fix \"Move Dir\" values to only be -1 or 1, no zeros"
   ]
  },
  {
   "cell_type": "code",
   "execution_count": 1,
   "metadata": {},
   "outputs": [],
   "source": [
    "import geneticAlgorithm as ga"
   ]
  },
  {
   "cell_type": "code",
   "execution_count": 2,
   "metadata": {},
   "outputs": [
    {
     "name": "stdout",
     "output_type": "stream",
     "text": [
      "--------------------------------------------------\n",
      "STARTING INITIALIZATION\n",
      "Creating population with the following parameters:\n",
      "Population size: 10\n",
      "Initial population: None\n",
      "Number of children per generation: 2\n",
      "--------------------------------------------------\n",
      "CREATING A POPULATION\n",
      "FINISHED MAKING POPULATION\n",
      "--------------------------------------------------\n",
      "FINISHED INITIALIZATION\n",
      "--------------------------------------------------\n"
     ]
    }
   ],
   "source": [
    "pop = ga.GA()"
   ]
  },
  {
   "cell_type": "code",
   "execution_count": 3,
   "metadata": {},
   "outputs": [
    {
     "name": "stdout",
     "output_type": "stream",
     "text": [
      "Current Generation: 0\n",
      "   Score  Move Pattern  Min Dist  Max Dist  Min Rot  Max Rot  Move Delay  \\\n",
      "0      0             4        40        97      264      304           2   \n",
      "1      0             3         3        81      207      117           9   \n",
      "2      0             3        46        85      229      177           0   \n",
      "3      0             2         4        50      144      137           3   \n",
      "4      0             0        85        13       99      333           1   \n",
      "5      0             4        22        73       69       17           0   \n",
      "6      0             3        67         4       83      318           8   \n",
      "7      0             1        60        99      349      342           1   \n",
      "8      0             0        27        35      182      112           1   \n",
      "9      0             3         0         1      288       28           8   \n",
      "\n",
      "   Move Dir  Move Vel  Bullet Pattern  Targeting Pattern  Probability  \n",
      "0         0         5               1                  2            0  \n",
      "1        -1         5               0                  2            0  \n",
      "2        -1         4               4                  1            0  \n",
      "3         0         6               2                  1            0  \n",
      "4         0         2               1                  2            0  \n",
      "5        -1         7               3                  2            0  \n",
      "6        -1         2               3                  1            0  \n",
      "7        -1         7               0                  0            0  \n",
      "8        -1         0               1                  2            0  \n",
      "9        -1         6               0                  2            0  \n"
     ]
    }
   ],
   "source": [
    "pop.PrintPopStatus()"
   ]
  },
  {
   "cell_type": "code",
   "execution_count": 4,
   "metadata": {},
   "outputs": [
    {
     "name": "stdout",
     "output_type": "stream",
     "text": [
      "--------------------------------------------------\n",
      "INSIDE SURVIVOR SELECTION\n",
      "END OF SURVIVOR SELECTION\n",
      "--------------------------------------------------\n"
     ]
    }
   ],
   "source": [
    "pop.SurvivorSelection()"
   ]
  },
  {
   "cell_type": "code",
   "execution_count": 7,
   "metadata": {},
   "outputs": [
    {
     "data": {
      "text/plain": [
       "<bound method GA.ParentSelection of <geneticAlgorithm.GA object at 0x000001BCF354E248>>"
      ]
     },
     "execution_count": 7,
     "metadata": {},
     "output_type": "execute_result"
    }
   ],
   "source": [
    "pop.ParentSelection()"
   ]
  },
  {
   "cell_type": "code",
   "execution_count": 6,
   "metadata": {},
   "outputs": [
    {
     "name": "stdout",
     "output_type": "stream",
     "text": [
      "Current Generation: 1\n",
      "   Score  Move Pattern  Min Dist  Max Dist  Min Rot  Max Rot  Move Delay  \\\n",
      "0      0             4        40        97      264      304           2   \n",
      "1      0             3         3        81      207      117           9   \n",
      "2      0             3        46        85      229      177           0   \n",
      "3      0             2         4        50      144      137           3   \n",
      "4      0             0        85        13       99      333           1   \n",
      "5      0             4        22        73       69       17           0   \n",
      "6      0             3        67         4       83      318           8   \n",
      "7      0             1        60        99      349      342           1   \n",
      "8      0             0        27        35      182      112           1   \n",
      "9      0             3         0         1      288       28           8   \n",
      "\n",
      "   Move Dir  Move Vel  Bullet Pattern  Targeting Pattern  Probability  \n",
      "0         0         5               1                  2          0.1  \n",
      "1        -1         5               0                  2          0.1  \n",
      "2        -1         4               4                  1          0.1  \n",
      "3         0         6               2                  1          0.1  \n",
      "4         0         2               1                  2          0.1  \n",
      "5        -1         7               3                  2          0.1  \n",
      "6        -1         2               3                  1          0.1  \n",
      "7        -1         7               0                  0          0.1  \n",
      "8        -1         0               1                  2          0.1  \n",
      "9        -1         6               0                  2          0.1  \n"
     ]
    }
   ],
   "source": [
    "pop.PrintPopStatus()"
   ]
  },
  {
   "cell_type": "code",
   "execution_count": null,
   "metadata": {},
   "outputs": [],
   "source": []
  }
 ],
 "metadata": {
  "kernelspec": {
   "display_name": "Python 3",
   "language": "python",
   "name": "python3"
  },
  "language_info": {
   "codemirror_mode": {
    "name": "ipython",
    "version": 3
   },
   "file_extension": ".py",
   "mimetype": "text/x-python",
   "name": "python",
   "nbconvert_exporter": "python",
   "pygments_lexer": "ipython3",
   "version": "3.7.4"
  }
 },
 "nbformat": 4,
 "nbformat_minor": 2
}
